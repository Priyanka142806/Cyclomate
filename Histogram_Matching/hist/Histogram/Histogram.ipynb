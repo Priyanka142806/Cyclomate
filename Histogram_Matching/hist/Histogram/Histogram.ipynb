{
 "cells": [
  {
   "cell_type": "code",
   "execution_count": 1,
   "id": "94ab4d14",
   "metadata": {},
   "outputs": [],
   "source": [
    "import cv2\n",
    "import numpy\n",
    "import matplotlib.pyplot as plt"
   ]
  },
  {
   "cell_type": "code",
   "execution_count": 2,
   "id": "c365ef4a",
   "metadata": {},
   "outputs": [],
   "source": [
    "flower = cv2.imread('Flower.jpg')"
   ]
  },
  {
   "cell_type": "code",
   "execution_count": 3,
   "id": "d9d80e4f",
   "metadata": {},
   "outputs": [],
   "source": [
    "flower = cv2.resize(flower,(600,800))"
   ]
  },
  {
   "cell_type": "code",
   "execution_count": 4,
   "id": "c01d3fc6",
   "metadata": {},
   "outputs": [],
   "source": [
    "cv2.imshow('Original',flower)\n",
    "cv2.waitKey()==13\n",
    "cv2.destroyAllWindows()"
   ]
  },
  {
   "cell_type": "code",
   "execution_count": 5,
   "id": "304ee25f",
   "metadata": {},
   "outputs": [
    {
     "data": {
      "text/plain": [
       "(800, 600, 3)"
      ]
     },
     "execution_count": 5,
     "metadata": {},
     "output_type": "execute_result"
    }
   ],
   "source": [
    "s = flower.shape\n",
    "s"
   ]
  },
  {
   "cell_type": "markdown",
   "id": "1af4294f",
   "metadata": {},
   "source": [
    "### converting image to gray"
   ]
  },
  {
   "cell_type": "code",
   "execution_count": 6,
   "id": "c01e2a8f",
   "metadata": {},
   "outputs": [],
   "source": [
    "grayFlower = cv2.cvtColor(flower, cv2.COLOR_BGR2GRAY)"
   ]
  },
  {
   "cell_type": "code",
   "execution_count": 7,
   "id": "991082fa",
   "metadata": {},
   "outputs": [
    {
     "data": {
      "text/plain": [
       "array([[ 56,  56,  56, ..., 143, 142, 143],\n",
       "       [ 57,  57,  57, ..., 144, 143, 143],\n",
       "       [ 59,  56,  57, ..., 141, 144, 143],\n",
       "       ...,\n",
       "       [133, 133, 132, ...,  87,  85,  86],\n",
       "       [130, 132, 131, ...,  87,  85,  86],\n",
       "       [127, 128, 130, ...,  86,  86,  85]], dtype=uint8)"
      ]
     },
     "execution_count": 7,
     "metadata": {},
     "output_type": "execute_result"
    }
   ],
   "source": [
    "grayFlower"
   ]
  },
  {
   "cell_type": "code",
   "execution_count": 8,
   "id": "672c12e2",
   "metadata": {},
   "outputs": [],
   "source": [
    "cv2.imshow('grayFlower',grayFlower)\n",
    "cv2.waitKey()==13\n",
    "cv2.destroyAllWindows()"
   ]
  },
  {
   "cell_type": "markdown",
   "id": "1fcdb35d",
   "metadata": {},
   "source": [
    "### adjusting image constraction and brightness"
   ]
  },
  {
   "cell_type": "code",
   "execution_count": 9,
   "id": "bdcf5e45",
   "metadata": {},
   "outputs": [],
   "source": [
    "scaledGrayFlower = cv2.convertScaleAbs(grayFlower, alpha = 1.10, beta = -20)"
   ]
  },
  {
   "cell_type": "code",
   "execution_count": 10,
   "id": "61656331",
   "metadata": {},
   "outputs": [
    {
     "data": {
      "text/plain": [
       "(800, 600)"
      ]
     },
     "execution_count": 10,
     "metadata": {},
     "output_type": "execute_result"
    }
   ],
   "source": [
    "scaledGrayFlower.shape"
   ]
  },
  {
   "cell_type": "code",
   "execution_count": 11,
   "id": "95892401",
   "metadata": {},
   "outputs": [
    {
     "data": {
      "text/plain": [
       "array([[ 42,  42,  42, ..., 137, 136, 137],\n",
       "       [ 43,  43,  43, ..., 138, 137, 137],\n",
       "       [ 45,  42,  43, ..., 135, 138, 137],\n",
       "       ...,\n",
       "       [126, 126, 125, ...,  76,  74,  75],\n",
       "       [123, 125, 124, ...,  76,  74,  75],\n",
       "       [120, 121, 123, ...,  75,  75,  74]], dtype=uint8)"
      ]
     },
     "execution_count": 11,
     "metadata": {},
     "output_type": "execute_result"
    }
   ],
   "source": [
    "scaledGrayFlower"
   ]
  },
  {
   "cell_type": "code",
   "execution_count": 12,
   "id": "57e1155a",
   "metadata": {},
   "outputs": [],
   "source": [
    "cv2.imshow('grayFlower',grayFlower)\n",
    "cv2.imshow('scaledGrayFlower',scaledGrayFlower)\n",
    "cv2.waitKey()==13\n",
    "cv2.destroyAllWindows()"
   ]
  },
  {
   "cell_type": "markdown",
   "id": "72b06685",
   "metadata": {},
   "source": [
    "### zeros araay"
   ]
  },
  {
   "cell_type": "code",
   "execution_count": 13,
   "id": "5947f2e2",
   "metadata": {},
   "outputs": [],
   "source": [
    "H = numpy.zeros(shape=256)"
   ]
  },
  {
   "cell_type": "code",
   "execution_count": 14,
   "id": "f6560c7a",
   "metadata": {},
   "outputs": [
    {
     "data": {
      "text/plain": [
       "array([0., 0., 0., 0., 0., 0., 0., 0., 0., 0., 0., 0., 0., 0., 0., 0., 0.,\n",
       "       0., 0., 0., 0., 0., 0., 0., 0., 0., 0., 0., 0., 0., 0., 0., 0., 0.,\n",
       "       0., 0., 0., 0., 0., 0., 0., 0., 0., 0., 0., 0., 0., 0., 0., 0., 0.,\n",
       "       0., 0., 0., 0., 0., 0., 0., 0., 0., 0., 0., 0., 0., 0., 0., 0., 0.,\n",
       "       0., 0., 0., 0., 0., 0., 0., 0., 0., 0., 0., 0., 0., 0., 0., 0., 0.,\n",
       "       0., 0., 0., 0., 0., 0., 0., 0., 0., 0., 0., 0., 0., 0., 0., 0., 0.,\n",
       "       0., 0., 0., 0., 0., 0., 0., 0., 0., 0., 0., 0., 0., 0., 0., 0., 0.,\n",
       "       0., 0., 0., 0., 0., 0., 0., 0., 0., 0., 0., 0., 0., 0., 0., 0., 0.,\n",
       "       0., 0., 0., 0., 0., 0., 0., 0., 0., 0., 0., 0., 0., 0., 0., 0., 0.,\n",
       "       0., 0., 0., 0., 0., 0., 0., 0., 0., 0., 0., 0., 0., 0., 0., 0., 0.,\n",
       "       0., 0., 0., 0., 0., 0., 0., 0., 0., 0., 0., 0., 0., 0., 0., 0., 0.,\n",
       "       0., 0., 0., 0., 0., 0., 0., 0., 0., 0., 0., 0., 0., 0., 0., 0., 0.,\n",
       "       0., 0., 0., 0., 0., 0., 0., 0., 0., 0., 0., 0., 0., 0., 0., 0., 0.,\n",
       "       0., 0., 0., 0., 0., 0., 0., 0., 0., 0., 0., 0., 0., 0., 0., 0., 0.,\n",
       "       0., 0., 0., 0., 0., 0., 0., 0., 0., 0., 0., 0., 0., 0., 0., 0., 0.,\n",
       "       0.])"
      ]
     },
     "execution_count": 14,
     "metadata": {},
     "output_type": "execute_result"
    }
   ],
   "source": [
    "H"
   ]
  },
  {
   "cell_type": "markdown",
   "id": "295f663a",
   "metadata": {},
   "source": [
    "### counting pixels"
   ]
  },
  {
   "cell_type": "markdown",
   "id": "7d23fbc0",
   "metadata": {},
   "source": [
    "#### Histogram function"
   ]
  },
  {
   "cell_type": "code",
   "execution_count": 15,
   "id": "0d1393c3",
   "metadata": {},
   "outputs": [],
   "source": [
    "def Hist(image):\n",
    "    H = numpy.zeros(shape=256)\n",
    "    s = image.shape\n",
    "    for i in range(s[0]):\n",
    "        for j in range(s[1]):\n",
    "            k = image[i,j]\n",
    "            H[k] = H[k] + 1\n",
    "    return H"
   ]
  },
  {
   "cell_type": "markdown",
   "id": "cb4f623d",
   "metadata": {},
   "source": [
    "#### constract image"
   ]
  },
  {
   "cell_type": "code",
   "execution_count": 16,
   "id": "18a71889",
   "metadata": {},
   "outputs": [],
   "source": [
    "scaledFlowerHist = Hist(scaledGrayFlower)"
   ]
  },
  {
   "cell_type": "code",
   "execution_count": 17,
   "id": "ff7269c5",
   "metadata": {},
   "outputs": [],
   "source": [
    "#H"
   ]
  },
  {
   "cell_type": "code",
   "execution_count": 18,
   "id": "e4a5637b",
   "metadata": {},
   "outputs": [
    {
     "data": {
      "image/png": "[encoded data removed]",
      "text/plain": [
       "<Figure size 432x288 with 1 Axes>"
      ]
     },
     "metadata": {
      "needs_background": "light"
     },
     "output_type": "display_data"
    }
   ],
   "source": [
    "plt.plot(scaledFlowerHist)\n",
    "plt.show()"
   ]
  },
  {
   "cell_type": "markdown",
   "id": "d61e3486",
   "metadata": {},
   "source": [
    "#### gray image"
   ]
  },
  {
   "cell_type": "code",
   "execution_count": 19,
   "id": "0a421e96",
   "metadata": {},
   "outputs": [],
   "source": [
    "grayFlowerHist = Hist(grayFlower)"
   ]
  },
  {
   "cell_type": "code",
   "execution_count": 20,
   "id": "f96fb224",
   "metadata": {},
   "outputs": [
    {
     "data": {
      "image/png": "[encoded data removed]",
      "text/plain": [
       "<Figure size 432x288 with 1 Axes>"
      ]
     },
     "metadata": {
      "needs_background": "light"
     },
     "output_type": "display_data"
    }
   ],
   "source": [
    "plt.plot(grayFlowerHist)\n",
    "plt.show()"
   ]
  },
  {
   "cell_type": "markdown",
   "id": "31b2befa",
   "metadata": {},
   "source": [
    "# 2nd"
   ]
  },
  {
   "cell_type": "code",
   "execution_count": 21,
   "id": "73093977",
   "metadata": {},
   "outputs": [],
   "source": [
    "x = scaledFlowerHist.reshape(1,256)"
   ]
  },
  {
   "cell_type": "code",
   "execution_count": 22,
   "id": "4c33b480",
   "metadata": {},
   "outputs": [],
   "source": [
    "y = numpy.array([])"
   ]
  },
  {
   "cell_type": "code",
   "execution_count": 23,
   "id": "bea9fdef",
   "metadata": {},
   "outputs": [],
   "source": [
    "y = numpy.append(y,x[0,0])"
   ]
  },
  {
   "cell_type": "code",
   "execution_count": 24,
   "id": "0c7b50ac",
   "metadata": {},
   "outputs": [],
   "source": [
    "for i in range(255):\n",
    "    k = x[0,i+1] + y[i]\n",
    "    y = numpy.append(y,k)\n",
    "y = numpy.round((y/(s[0]*s[1]))*(256-1))"
   ]
  },
  {
   "cell_type": "code",
   "execution_count": 25,
   "id": "f3b296d6",
   "metadata": {},
   "outputs": [],
   "source": [
    "for i in range(s[0]):\n",
    "    for j in range(s[1]):\n",
    "        k = scaledGrayFlower[i,j]\n",
    "        scaledGrayFlower[i,j] = y[k]"
   ]
  },
  {
   "cell_type": "code",
   "execution_count": 26,
   "id": "91b1bb47",
   "metadata": {},
   "outputs": [],
   "source": [
    "cv2.imshow('scaledGrayFlower',scaledGrayFlower)\n",
    "cv2.waitKey()==13\n",
    "cv2.destroyAllWindows()"
   ]
  },
  {
   "cell_type": "code",
   "execution_count": 27,
   "id": "7d8114dc",
   "metadata": {},
   "outputs": [],
   "source": [
    "equalizeHist = Hist(scaledGrayFlower)"
   ]
  },
  {
   "cell_type": "code",
   "execution_count": 28,
   "id": "82c40b69",
   "metadata": {},
   "outputs": [
    {
     "data": {
      "image/png": "[encoded data removed]",
      "text/plain": [
       "<Figure size 432x288 with 1 Axes>"
      ]
     },
     "metadata": {
      "needs_background": "light"
     },
     "output_type": "display_data"
    }
   ],
   "source": [
    "plt.plot(equalizeHist)\n",
    "plt.show()"
   ]
  },
  {
   "cell_type": "markdown",
   "id": "616f99dd",
   "metadata": {},
   "source": [
    "# Matching"
   ]
  },
  {
   "cell_type": "code",
   "execution_count": 29,
   "id": "e50d8e5f",
   "metadata": {},
   "outputs": [],
   "source": [
    "import pandas as pd"
   ]
  },
  {
   "cell_type": "code",
   "execution_count": 30,
   "id": "22710b43",
   "metadata": {},
   "outputs": [
    {
     "data": {
      "text/html": [
       "<div>\n",
       "<style scoped>\n",
       "    .dataframe tbody tr th:only-of-type {\n",
       "        vertical-align: middle;\n",
       "    }\n",
       "\n",
       "    .dataframe tbody tr th {\n",
       "        vertical-align: top;\n",
       "    }\n",
       "\n",
       "    .dataframe thead th {\n",
       "        text-align: right;\n",
       "    }\n",
       "</style>\n",
       "<table border=\"1\" class=\"dataframe\">\n",
       "  <thead>\n",
       "    <tr style=\"text-align: right;\">\n",
       "      <th></th>\n",
       "      <th>scaledFlowerHist</th>\n",
       "    </tr>\n",
       "  </thead>\n",
       "  <tbody>\n",
       "    <tr>\n",
       "      <th>0</th>\n",
       "      <td>0.0</td>\n",
       "    </tr>\n",
       "    <tr>\n",
       "      <th>1</th>\n",
       "      <td>0.0</td>\n",
       "    </tr>\n",
       "    <tr>\n",
       "      <th>2</th>\n",
       "      <td>0.0</td>\n",
       "    </tr>\n",
       "    <tr>\n",
       "      <th>3</th>\n",
       "      <td>0.0</td>\n",
       "    </tr>\n",
       "    <tr>\n",
       "      <th>4</th>\n",
       "      <td>0.0</td>\n",
       "    </tr>\n",
       "    <tr>\n",
       "      <th>...</th>\n",
       "      <td>...</td>\n",
       "    </tr>\n",
       "    <tr>\n",
       "      <th>251</th>\n",
       "      <td>0.0</td>\n",
       "    </tr>\n",
       "    <tr>\n",
       "      <th>252</th>\n",
       "      <td>0.0</td>\n",
       "    </tr>\n",
       "    <tr>\n",
       "      <th>253</th>\n",
       "      <td>0.0</td>\n",
       "    </tr>\n",
       "    <tr>\n",
       "      <th>254</th>\n",
       "      <td>0.0</td>\n",
       "    </tr>\n",
       "    <tr>\n",
       "      <th>255</th>\n",
       "      <td>0.0</td>\n",
       "    </tr>\n",
       "  </tbody>\n",
       "</table>\n",
       "<p>256 rows × 1 columns</p>\n",
       "</div>"
      ],
      "text/plain": [
       "     scaledFlowerHist\n",
       "0                 0.0\n",
       "1                 0.0\n",
       "2                 0.0\n",
       "3                 0.0\n",
       "4                 0.0\n",
       "..                ...\n",
       "251               0.0\n",
       "252               0.0\n",
       "253               0.0\n",
       "254               0.0\n",
       "255               0.0\n",
       "\n",
       "[256 rows x 1 columns]"
      ]
     },
     "execution_count": 30,
     "metadata": {},
     "output_type": "execute_result"
    }
   ],
   "source": [
    "pd.DataFrame(scaledFlowerHist, columns = ['scaledFlowerHist'])"
   ]
  },
  {
   "cell_type": "code",
   "execution_count": 31,
   "id": "9ab4e2c3",
   "metadata": {},
   "outputs": [
    {
     "data": {
      "text/html": [
       "<div>\n",
       "<style scoped>\n",
       "    .dataframe tbody tr th:only-of-type {\n",
       "        vertical-align: middle;\n",
       "    }\n",
       "\n",
       "    .dataframe tbody tr th {\n",
       "        vertical-align: top;\n",
       "    }\n",
       "\n",
       "    .dataframe thead th {\n",
       "        text-align: right;\n",
       "    }\n",
       "</style>\n",
       "<table border=\"1\" class=\"dataframe\">\n",
       "  <thead>\n",
       "    <tr style=\"text-align: right;\">\n",
       "      <th></th>\n",
       "      <th>grayFlowerHist</th>\n",
       "    </tr>\n",
       "  </thead>\n",
       "  <tbody>\n",
       "    <tr>\n",
       "      <th>0</th>\n",
       "      <td>0.0</td>\n",
       "    </tr>\n",
       "    <tr>\n",
       "      <th>1</th>\n",
       "      <td>0.0</td>\n",
       "    </tr>\n",
       "    <tr>\n",
       "      <th>2</th>\n",
       "      <td>0.0</td>\n",
       "    </tr>\n",
       "    <tr>\n",
       "      <th>3</th>\n",
       "      <td>0.0</td>\n",
       "    </tr>\n",
       "    <tr>\n",
       "      <th>4</th>\n",
       "      <td>0.0</td>\n",
       "    </tr>\n",
       "    <tr>\n",
       "      <th>...</th>\n",
       "      <td>...</td>\n",
       "    </tr>\n",
       "    <tr>\n",
       "      <th>251</th>\n",
       "      <td>0.0</td>\n",
       "    </tr>\n",
       "    <tr>\n",
       "      <th>252</th>\n",
       "      <td>0.0</td>\n",
       "    </tr>\n",
       "    <tr>\n",
       "      <th>253</th>\n",
       "      <td>0.0</td>\n",
       "    </tr>\n",
       "    <tr>\n",
       "      <th>254</th>\n",
       "      <td>0.0</td>\n",
       "    </tr>\n",
       "    <tr>\n",
       "      <th>255</th>\n",
       "      <td>0.0</td>\n",
       "    </tr>\n",
       "  </tbody>\n",
       "</table>\n",
       "<p>256 rows × 1 columns</p>\n",
       "</div>"
      ],
      "text/plain": [
       "     grayFlowerHist\n",
       "0               0.0\n",
       "1               0.0\n",
       "2               0.0\n",
       "3               0.0\n",
       "4               0.0\n",
       "..              ...\n",
       "251             0.0\n",
       "252             0.0\n",
       "253             0.0\n",
       "254             0.0\n",
       "255             0.0\n",
       "\n",
       "[256 rows x 1 columns]"
      ]
     },
     "execution_count": 31,
     "metadata": {},
     "output_type": "execute_result"
    }
   ],
   "source": [
    "pd.DataFrame(grayFlowerHist, columns = ['grayFlowerHist'])"
   ]
  },
  {
   "cell_type": "code",
   "execution_count": 32,
   "id": "15a9aa19",
   "metadata": {},
   "outputs": [
    {
     "data": {
      "text/plain": [
       "array([[1.        , 0.61091132],\n",
       "       [0.61091132, 1.        ]])"
      ]
     },
     "execution_count": 32,
     "metadata": {},
     "output_type": "execute_result"
    }
   ],
   "source": [
    "numpy.corrcoef(scaledFlowerHist,grayFlowerHist)"
   ]
  },
  {
   "cell_type": "code",
   "execution_count": null,
   "id": "5830566b",
   "metadata": {},
   "outputs": [],
   "source": []
  },
  {
   "cell_type": "code",
   "execution_count": null,
   "id": "f0da2f8b",
   "metadata": {},
   "outputs": [],
   "source": []
  },
  {
   "cell_type": "code",
   "execution_count": null,
   "id": "7ff3c0eb",
   "metadata": {},
   "outputs": [],
   "source": []
  }
 ],
 "metadata": {
  "kernelspec": {
   "display_name": "Python 3 (ipykernel)",
   "language": "python",
   "name": "python3"
  },
  "language_info": {
   "codemirror_mode": {
    "name": "ipython",
    "version": 3
   },
   "file_extension": ".py",
   "mimetype": "text/x-python",
   "name": "python",
   "nbconvert_exporter": "python",
   "pygments_lexer": "ipython3",
   "version": "3.8.12"
  }
 },
 "nbformat": 4,
 "nbformat_minor": 5
}
