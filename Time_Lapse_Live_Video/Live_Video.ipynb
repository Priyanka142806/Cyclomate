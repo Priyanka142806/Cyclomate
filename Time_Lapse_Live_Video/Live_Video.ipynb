{
 "cells": [
  {
   "cell_type": "markdown",
   "id": "558579e1",
   "metadata": {},
   "source": [
    "# Live video"
   ]
  },
  {
   "cell_type": "code",
   "execution_count": 1,
   "id": "3cdddfc9",
   "metadata": {},
   "outputs": [],
   "source": [
    "import cv2\n",
    "import glob"
   ]
  },
  {
   "cell_type": "code",
   "execution_count": 2,
   "id": "713df109",
   "metadata": {},
   "outputs": [],
   "source": [
    "#images = [cv2.imread(file) for file in glob.glob('SIH-Cyclone-master/data/cyclone/Amphan/*.jpg')]"
   ]
  },
  {
   "cell_type": "code",
   "execution_count": 3,
   "id": "aaf6f586",
   "metadata": {},
   "outputs": [],
   "source": [
    "while True:\n",
    "    k=0\n",
    "    for file in glob.glob('SIH-Cyclone-master/data/cyclone/Amphan/*'):\n",
    "        image = cv2.imread(file)\n",
    "        cv2.imshow('1',image)\n",
    "        if cv2.waitKey(10)==13:\n",
    "            k=1\n",
    "            break\n",
    "    if k==1:\n",
    "        break\n",
    "cv2.destroyAllWindows()"
   ]
  },
  {
   "cell_type": "code",
   "execution_count": null,
   "id": "b253462f",
   "metadata": {},
   "outputs": [],
   "source": []
  },
  {
   "cell_type": "markdown",
   "id": "40e3de20",
   "metadata": {},
   "source": [
    "# Area"
   ]
  },
  {
   "cell_type": "code",
   "execution_count": 36,
   "id": "488235fb",
   "metadata": {},
   "outputs": [],
   "source": [
    "m = cv2.imread('annotated_image.png')\n",
    "grayImage = cv2.cvtColor(m, cv2.COLOR_BGR2GRAY)"
   ]
  },
  {
   "cell_type": "code",
   "execution_count": 37,
   "id": "da40349e",
   "metadata": {},
   "outputs": [
    {
     "data": {
      "text/plain": [
       "array([[[ 36, 231, 253],\n",
       "        [ 36, 231, 253],\n",
       "        [ 36, 231, 253],\n",
       "        ...,\n",
       "        [ 36, 231, 253],\n",
       "        [ 36, 231, 253],\n",
       "        [ 36, 231, 253]],\n",
       "\n",
       "       [[ 36, 231, 253],\n",
       "        [ 36, 231, 253],\n",
       "        [ 36, 231, 253],\n",
       "        ...,\n",
       "        [ 36, 231, 253],\n",
       "        [ 36, 231, 253],\n",
       "        [ 36, 231, 253]],\n",
       "\n",
       "       [[ 36, 231, 253],\n",
       "        [ 36, 231, 253],\n",
       "        [ 36, 231, 253],\n",
       "        ...,\n",
       "        [ 36, 231, 253],\n",
       "        [ 36, 231, 253],\n",
       "        [ 36, 231, 253]],\n",
       "\n",
       "       ...,\n",
       "\n",
       "       [[ 36, 231, 253],\n",
       "        [ 36, 231, 253],\n",
       "        [ 36, 231, 253],\n",
       "        ...,\n",
       "        [ 84,   1,  68],\n",
       "        [ 84,   1,  68],\n",
       "        [ 84,   1,  68]],\n",
       "\n",
       "       [[ 36, 231, 253],\n",
       "        [ 36, 231, 253],\n",
       "        [ 36, 231, 253],\n",
       "        ...,\n",
       "        [ 84,   1,  68],\n",
       "        [ 84,   1,  68],\n",
       "        [ 84,   1,  68]],\n",
       "\n",
       "       [[ 36, 231, 253],\n",
       "        [ 36, 231, 253],\n",
       "        [ 36, 231, 253],\n",
       "        ...,\n",
       "        [ 84,   1,  68],\n",
       "        [ 84,   1,  68],\n",
       "        [ 36, 231, 253]]], dtype=uint8)"
      ]
     },
     "execution_count": 37,
     "metadata": {},
     "output_type": "execute_result"
    }
   ],
   "source": [
    "m"
   ]
  },
  {
   "cell_type": "code",
   "execution_count": 38,
   "id": "a0761e7d",
   "metadata": {},
   "outputs": [],
   "source": [
    "cv2.imshow('1',grayImage)\n",
    "cv2.waitKey()\n",
    "cv2.destroyAllWindows()"
   ]
  },
  {
   "cell_type": "code",
   "execution_count": 39,
   "id": "3ae5a4ea",
   "metadata": {},
   "outputs": [
    {
     "data": {
      "text/plain": [
       "array([[215, 215, 215, ..., 215, 215, 215],\n",
       "       [215, 215, 215, ..., 215, 215, 215],\n",
       "       [215, 215, 215, ..., 215, 215, 215],\n",
       "       ...,\n",
       "       [215, 215, 215, ...,  30,  30,  30],\n",
       "       [215, 215, 215, ...,  30,  30,  30],\n",
       "       [215, 215, 215, ...,  30,  30, 215]], dtype=uint8)"
      ]
     },
     "execution_count": 39,
     "metadata": {},
     "output_type": "execute_result"
    }
   ],
   "source": [
    "grayImage"
   ]
  },
  {
   "cell_type": "code",
   "execution_count": 40,
   "id": "b1c42902",
   "metadata": {},
   "outputs": [],
   "source": [
    "grayImage_list = grayImage.tolist()\n",
    "\n",
    "white = sum([i.count(215) for i in grayImage_list])\n",
    "black = sum([i.count(30) for i in grayImage_list])"
   ]
  },
  {
   "cell_type": "code",
   "execution_count": 41,
   "id": "77422f32",
   "metadata": {},
   "outputs": [
    {
     "data": {
      "text/plain": [
       "(128, 128)"
      ]
     },
     "execution_count": 41,
     "metadata": {},
     "output_type": "execute_result"
    }
   ],
   "source": [
    "grayImage.shape"
   ]
  },
  {
   "cell_type": "code",
   "execution_count": 42,
   "id": "e50e793b",
   "metadata": {},
   "outputs": [
    {
     "data": {
      "text/plain": [
       "5800"
      ]
     },
     "execution_count": 42,
     "metadata": {},
     "output_type": "execute_result"
    }
   ],
   "source": [
    "black"
   ]
  },
  {
   "cell_type": "code",
   "execution_count": 43,
   "id": "b8cd67c0",
   "metadata": {},
   "outputs": [
    {
     "data": {
      "text/plain": [
       "10584"
      ]
     },
     "execution_count": 43,
     "metadata": {},
     "output_type": "execute_result"
    }
   ],
   "source": [
    "white"
   ]
  },
  {
   "cell_type": "code",
   "execution_count": 44,
   "id": "7d2ef718",
   "metadata": {},
   "outputs": [
    {
     "data": {
      "text/plain": [
       "False"
      ]
     },
     "execution_count": 44,
     "metadata": {},
     "output_type": "execute_result"
    }
   ],
   "source": [
    "black + white == 600*600"
   ]
  },
  {
   "cell_type": "code",
   "execution_count": 45,
   "id": "4385a82f",
   "metadata": {},
   "outputs": [
    {
     "data": {
      "text/plain": [
       "35.400390625"
      ]
     },
     "execution_count": 45,
     "metadata": {},
     "output_type": "execute_result"
    }
   ],
   "source": [
    "area_of_cyclone = (black/(black+white))*100\n",
    "\n",
    "area_of_cyclone"
   ]
  },
  {
   "cell_type": "markdown",
   "id": "41bd59a6",
   "metadata": {},
   "source": [
    "# Classification"
   ]
  },
  {
   "cell_type": "code",
   "execution_count": 1,
   "id": "481ea674",
   "metadata": {},
   "outputs": [],
   "source": [
    "import cv2\n",
    "import tensorflow as tf\n",
    "import numpy as np\n",
    "import matplotlib.pyplot as plt"
   ]
  },
  {
   "cell_type": "code",
   "execution_count": 3,
   "id": "956df2ec",
   "metadata": {},
   "outputs": [],
   "source": [
    "l_img = cv2.imread('test_image016.png')"
   ]
  },
  {
   "cell_type": "code",
   "execution_count": 4,
   "id": "a2a6f5f8",
   "metadata": {},
   "outputs": [],
   "source": [
    "img = l_img[470:,300:,:]"
   ]
  },
  {
   "cell_type": "code",
   "execution_count": 5,
   "id": "8ff236bd",
   "metadata": {},
   "outputs": [
    {
     "ename": "error",
     "evalue": "OpenCV(4.5.2) C:\\Users\\runneradmin\\AppData\\Local\\Temp\\pip-req-build-_8k9tw8n\\opencv\\modules\\highgui\\src\\window.cpp:404: error: (-215:Assertion failed) size.width>0 && size.height>0 in function 'cv::imshow'\n",
     "output_type": "error",
     "traceback": [
      "\u001b[1;31m---------------------------------------------------------------------------\u001b[0m",
      "\u001b[1;31merror\u001b[0m                                     Traceback (most recent call last)",
      "\u001b[1;32m<ipython-input-5-7cd147f6acaa>\u001b[0m in \u001b[0;36m<module>\u001b[1;34m\u001b[0m\n\u001b[1;32m----> 1\u001b[1;33m \u001b[0mcv2\u001b[0m\u001b[1;33m.\u001b[0m\u001b[0mimshow\u001b[0m\u001b[1;33m(\u001b[0m\u001b[1;34m'1'\u001b[0m\u001b[1;33m,\u001b[0m\u001b[0mimg\u001b[0m\u001b[1;33m)\u001b[0m\u001b[1;33m\u001b[0m\u001b[1;33m\u001b[0m\u001b[0m\n\u001b[0m\u001b[0;32m      2\u001b[0m \u001b[0mcv2\u001b[0m\u001b[1;33m.\u001b[0m\u001b[0mwaitKey\u001b[0m\u001b[1;33m(\u001b[0m\u001b[1;33m)\u001b[0m\u001b[1;33m\u001b[0m\u001b[1;33m\u001b[0m\u001b[0m\n\u001b[0;32m      3\u001b[0m \u001b[0mcv2\u001b[0m\u001b[1;33m.\u001b[0m\u001b[0mdestroyAllWindows\u001b[0m\u001b[1;33m(\u001b[0m\u001b[1;33m)\u001b[0m\u001b[1;33m\u001b[0m\u001b[1;33m\u001b[0m\u001b[0m\n",
      "\u001b[1;31merror\u001b[0m: OpenCV(4.5.2) C:\\Users\\runneradmin\\AppData\\Local\\Temp\\pip-req-build-_8k9tw8n\\opencv\\modules\\highgui\\src\\window.cpp:404: error: (-215:Assertion failed) size.width>0 && size.height>0 in function 'cv::imshow'\n"
     ]
    }
   ],
   "source": [
    "cv2.imshow('1',img)\n",
    "cv2.waitKey()\n",
    "cv2.destroyAllWindows()"
   ]
  },
  {
   "cell_type": "code",
   "execution_count": 8,
   "id": "665e2449",
   "metadata": {},
   "outputs": [
    {
     "data": {
      "text/plain": [
       "367"
      ]
     },
     "execution_count": 8,
     "metadata": {},
     "output_type": "execute_result"
    }
   ],
   "source": [
    "len(img)"
   ]
  },
  {
   "cell_type": "code",
   "execution_count": 9,
   "id": "72729b19",
   "metadata": {},
   "outputs": [],
   "source": [
    "kernel1 = np.ones( (3,3), dtype=np.uint8 )"
   ]
  },
  {
   "cell_type": "code",
   "execution_count": 10,
   "id": "8166db2e",
   "metadata": {},
   "outputs": [],
   "source": [
    "erode_img1 = cv2.erode(img,kernel1,iterations=2)\n",
    "dil_img1 = cv2.dilate(erode_img1,kernel1)\n",
    "\n",
    "cv2.imshow('1',img)\n",
    "\n",
    "cv2.imshow('2',erode_img1)\n",
    "cv2.imwrite('img.png', erode_img1)\n",
    "\n",
    "cv2.imshow('3',dil_img1)\n",
    "\n",
    "\n",
    "cv2.waitKey()\n",
    "cv2.destroyAllWindows()"
   ]
  },
  {
   "cell_type": "code",
   "execution_count": 6,
   "id": "360c049a",
   "metadata": {},
   "outputs": [],
   "source": [
    "\n",
    "import cv2"
   ]
  },
  {
   "cell_type": "code",
   "execution_count": 7,
   "id": "b737d55a",
   "metadata": {},
   "outputs": [],
   "source": [
    "model = tf.keras.models.load_model('model_cyclone.h5')"
   ]
  },
  {
   "cell_type": "code",
   "execution_count": 8,
   "id": "e440f904",
   "metadata": {},
   "outputs": [],
   "source": [
    "img = cv2.imread('test_image016.png')"
   ]
  },
  {
   "cell_type": "code",
   "execution_count": 9,
   "id": "15780a88",
   "metadata": {},
   "outputs": [],
   "source": [
    "img = cv2.resize(img,(128,128))     # resize image to match model's expected sizing\n",
    "img = img.reshape(1,128,128,3)"
   ]
  },
  {
   "cell_type": "code",
   "execution_count": null,
   "id": "fc48afb3",
   "metadata": {},
   "outputs": [],
   "source": []
  },
  {
   "cell_type": "code",
   "execution_count": null,
   "id": "4237b755",
   "metadata": {},
   "outputs": [],
   "source": []
  },
  {
   "cell_type": "code",
   "execution_count": null,
   "id": "724c84fb",
   "metadata": {},
   "outputs": [],
   "source": []
  },
  {
   "cell_type": "code",
   "execution_count": 10,
   "id": "8d42ad41",
   "metadata": {},
   "outputs": [],
   "source": [
    "#img = resize(img, (128, 128), mode='constant', preserve_range=True)"
   ]
  },
  {
   "cell_type": "code",
   "execution_count": null,
   "id": "8b54e46c",
   "metadata": {},
   "outputs": [],
   "source": []
  },
  {
   "cell_type": "code",
   "execution_count": null,
   "id": "84a9850e",
   "metadata": {},
   "outputs": [],
   "source": []
  },
  {
   "cell_type": "code",
   "execution_count": null,
   "id": "9aabdc72",
   "metadata": {},
   "outputs": [],
   "source": []
  },
  {
   "cell_type": "code",
   "execution_count": 11,
   "id": "32123e37",
   "metadata": {},
   "outputs": [],
   "source": [
    "pred = model.predict(img)"
   ]
  },
  {
   "cell_type": "code",
   "execution_count": 12,
   "id": "c56c362a",
   "metadata": {},
   "outputs": [],
   "source": [
    "preds = (pred >0.3).astype(np.uint8)"
   ]
  },
  {
   "cell_type": "code",
   "execution_count": 13,
   "id": "c457deeb",
   "metadata": {},
   "outputs": [],
   "source": [
    "from skimage.io import imread, imshow, imsave"
   ]
  },
  {
   "cell_type": "code",
   "execution_count": 14,
   "id": "03bce399",
   "metadata": {},
   "outputs": [
    {
     "data": {
      "image/png": "[encoded data removed]",
      "text/plain": [
       "<Figure size 432x288 with 1 Axes>"
      ]
     },
     "metadata": {
      "needs_background": "light"
     },
     "output_type": "display_data"
    }
   ],
   "source": [
    "#imshow(img)\n",
    "#plt.show()\n",
    "#imshow(np.squeeze(Y_train[ix]))\n",
    "#plt.show()\n",
    "plt.imshow(np.squeeze(preds))\n",
    "#plt.show()\n",
    "plt.imsave('a.png',np.squeeze(preds))"
   ]
  },
  {
   "cell_type": "code",
   "execution_count": 31,
   "id": "f6907249",
   "metadata": {},
   "outputs": [
    {
     "data": {
      "text/plain": [
       "True"
      ]
     },
     "execution_count": 31,
     "metadata": {},
     "output_type": "execute_result"
    }
   ],
   "source": [
    "cv2.imwrite(\"a_img.jpeg\", np.squeeze(preds))"
   ]
  },
  {
   "cell_type": "code",
   "execution_count": 32,
   "id": "7b95b890",
   "metadata": {},
   "outputs": [
    {
     "data": {
      "text/plain": [
       "array([[[[1],\n",
       "         [1],\n",
       "         [1],\n",
       "         ...,\n",
       "         [1],\n",
       "         [1],\n",
       "         [1]],\n",
       "\n",
       "        [[1],\n",
       "         [1],\n",
       "         [1],\n",
       "         ...,\n",
       "         [1],\n",
       "         [1],\n",
       "         [1]],\n",
       "\n",
       "        [[1],\n",
       "         [1],\n",
       "         [1],\n",
       "         ...,\n",
       "         [1],\n",
       "         [1],\n",
       "         [1]],\n",
       "\n",
       "        ...,\n",
       "\n",
       "        [[1],\n",
       "         [1],\n",
       "         [1],\n",
       "         ...,\n",
       "         [0],\n",
       "         [0],\n",
       "         [0]],\n",
       "\n",
       "        [[1],\n",
       "         [1],\n",
       "         [1],\n",
       "         ...,\n",
       "         [0],\n",
       "         [0],\n",
       "         [0]],\n",
       "\n",
       "        [[1],\n",
       "         [1],\n",
       "         [1],\n",
       "         ...,\n",
       "         [0],\n",
       "         [0],\n",
       "         [1]]]], dtype=uint8)"
      ]
     },
     "execution_count": 32,
     "metadata": {},
     "output_type": "execute_result"
    }
   ],
   "source": [
    "preds"
   ]
  },
  {
   "cell_type": "code",
   "execution_count": 33,
   "id": "ceaff9a3",
   "metadata": {},
   "outputs": [],
   "source": [
    "a_img = cv2.imread('a_img.jpg')\n"
   ]
  },
  {
   "cell_type": "code",
   "execution_count": 34,
   "id": "4db30edb",
   "metadata": {},
   "outputs": [],
   "source": [
    "a_img"
   ]
  },
  {
   "cell_type": "code",
   "execution_count": 35,
   "id": "5ebc7c7f",
   "metadata": {},
   "outputs": [],
   "source": [
    "#dil_img1"
   ]
  },
  {
   "cell_type": "code",
   "execution_count": null,
   "id": "2f9db6a5",
   "metadata": {},
   "outputs": [],
   "source": []
  }
 ],
 "metadata": {
  "kernelspec": {
   "display_name": "Python 3",
   "language": "python",
   "name": "python3"
  },
  "language_info": {
   "codemirror_mode": {
    "name": "ipython",
    "version": 3
   },
   "file_extension": ".py",
   "mimetype": "text/x-python",
   "name": "python",
   "nbconvert_exporter": "python",
   "pygments_lexer": "ipython3",
   "version": "3.8.8"
  }
 },
 "nbformat": 4,
 "nbformat_minor": 5
}
