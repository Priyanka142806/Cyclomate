{
 "cells": [
  {
   "cell_type": "code",
   "execution_count": 82,
   "id": "94ab4d14",
   "metadata": {},
   "outputs": [],
   "source": [
    "import cv2\n",
    "import numpy\n",
    "import matplotlib.pyplot as plt"
   ]
  },
  {
   "cell_type": "code",
   "execution_count": 83,
   "id": "c365ef4a",
   "metadata": {},
   "outputs": [],
   "source": [
    "flower = cv2.imread('cycloneDilateImage.png')"
   ]
  },
  {
   "cell_type": "code",
   "execution_count": 84,
   "id": "d9d80e4f",
   "metadata": {},
   "outputs": [],
   "source": [
    "#flower = cv2.resize(flower,(600,800))"
   ]
  },
  {
   "cell_type": "code",
   "execution_count": 85,
   "id": "c01d3fc6",
   "metadata": {},
   "outputs": [],
   "source": [
    "cv2.imshow('Original',flower)\n",
    "cv2.waitKey()==13\n",
    "cv2.destroyAllWindows()"
   ]
  },
  {
   "cell_type": "code",
   "execution_count": 86,
   "id": "304ee25f",
   "metadata": {},
   "outputs": [
    {
     "data": {
      "text/plain": [
       "(367, 426, 3)"
      ]
     },
     "execution_count": 86,
     "metadata": {},
     "output_type": "execute_result"
    }
   ],
   "source": [
    "s = flower.shape\n",
    "s"
   ]
  },
  {
   "cell_type": "markdown",
   "id": "1af4294f",
   "metadata": {},
   "source": [
    "### converting image to gray"
   ]
  },
  {
   "cell_type": "code",
   "execution_count": 87,
   "id": "c01e2a8f",
   "metadata": {},
   "outputs": [],
   "source": [
    "grayFlower = cv2.cvtColor(flower, cv2.COLOR_BGR2GRAY)"
   ]
  },
  {
   "cell_type": "code",
   "execution_count": 88,
   "id": "991082fa",
   "metadata": {},
   "outputs": [
    {
     "data": {
      "text/plain": [
       "array([[ 50,  50,  47, ...,  66,  66,  66],\n",
       "       [ 50,  50,  47, ...,  66,  66,  66],\n",
       "       [ 52,  52,  51, ...,  66,  66,  66],\n",
       "       ...,\n",
       "       [144, 144, 158, ...,  90,  90,  90],\n",
       "       [147, 147, 160, ...,  90,  84,  84],\n",
       "       [147, 147, 160, ...,  90,  84,  84]], dtype=uint8)"
      ]
     },
     "execution_count": 88,
     "metadata": {},
     "output_type": "execute_result"
    }
   ],
   "source": [
    "grayFlower"
   ]
  },
  {
   "cell_type": "code",
   "execution_count": 89,
   "id": "672c12e2",
   "metadata": {},
   "outputs": [],
   "source": [
    "cv2.imshow('grayFlower',grayFlower)\n",
    "cv2.waitKey()==13\n",
    "cv2.destroyAllWindows()"
   ]
  },
  {
   "cell_type": "markdown",
   "id": "1fcdb35d",
   "metadata": {},
   "source": [
    "### adjusting image constraction and brightness"
   ]
  },
  {
   "cell_type": "code",
   "execution_count": 90,
   "id": "bdcf5e45",
   "metadata": {},
   "outputs": [],
   "source": [
    "scaledGrayFlower = cv2.convertScaleAbs(grayFlower, alpha = 1.10, beta = -20)"
   ]
  },
  {
   "cell_type": "code",
   "execution_count": 91,
   "id": "61656331",
   "metadata": {},
   "outputs": [
    {
     "data": {
      "text/plain": [
       "(367, 426)"
      ]
     },
     "execution_count": 91,
     "metadata": {},
     "output_type": "execute_result"
    }
   ],
   "source": [
    "scaledGrayFlower.shape"
   ]
  },
  {
   "cell_type": "code",
   "execution_count": 92,
   "id": "95892401",
   "metadata": {},
   "outputs": [
    {
     "data": {
      "text/plain": [
       "array([[ 35,  35,  32, ...,  53,  53,  53],\n",
       "       [ 35,  35,  32, ...,  53,  53,  53],\n",
       "       [ 37,  37,  36, ...,  53,  53,  53],\n",
       "       ...,\n",
       "       [138, 138, 154, ...,  79,  79,  79],\n",
       "       [142, 142, 156, ...,  79,  72,  72],\n",
       "       [142, 142, 156, ...,  79,  72,  72]], dtype=uint8)"
      ]
     },
     "execution_count": 92,
     "metadata": {},
     "output_type": "execute_result"
    }
   ],
   "source": [
    "scaledGrayFlower"
   ]
  },
  {
   "cell_type": "code",
   "execution_count": 93,
   "id": "57e1155a",
   "metadata": {},
   "outputs": [],
   "source": [
    "cv2.imshow('grayFlower',grayFlower)\n",
    "cv2.imshow('scaledGrayFlower',scaledGrayFlower)\n",
    "cv2.waitKey()==13\n",
    "cv2.destroyAllWindows()"
   ]
  },
  {
   "cell_type": "markdown",
   "id": "72b06685",
   "metadata": {},
   "source": [
    "### zeros araay"
   ]
  },
  {
   "cell_type": "code",
   "execution_count": 94,
   "id": "5947f2e2",
   "metadata": {},
   "outputs": [],
   "source": [
    "H = numpy.zeros(shape=(256,1))"
   ]
  },
  {
   "cell_type": "code",
   "execution_count": 95,
   "id": "f6560c7a",
   "metadata": {},
   "outputs": [
    {
     "data": {
      "text/plain": [
       "array([[0.],\n",
       "       [0.],\n",
       "       [0.],\n",
       "       [0.],\n",
       "       [0.],\n",
       "       [0.],\n",
       "       [0.],\n",
       "       [0.],\n",
       "       [0.],\n",
       "       [0.],\n",
       "       [0.],\n",
       "       [0.],\n",
       "       [0.],\n",
       "       [0.],\n",
       "       [0.],\n",
       "       [0.],\n",
       "       [0.],\n",
       "       [0.],\n",
       "       [0.],\n",
       "       [0.],\n",
       "       [0.],\n",
       "       [0.],\n",
       "       [0.],\n",
       "       [0.],\n",
       "       [0.],\n",
       "       [0.],\n",
       "       [0.],\n",
       "       [0.],\n",
       "       [0.],\n",
       "       [0.],\n",
       "       [0.],\n",
       "       [0.],\n",
       "       [0.],\n",
       "       [0.],\n",
       "       [0.],\n",
       "       [0.],\n",
       "       [0.],\n",
       "       [0.],\n",
       "       [0.],\n",
       "       [0.],\n",
       "       [0.],\n",
       "       [0.],\n",
       "       [0.],\n",
       "       [0.],\n",
       "       [0.],\n",
       "       [0.],\n",
       "       [0.],\n",
       "       [0.],\n",
       "       [0.],\n",
       "       [0.],\n",
       "       [0.],\n",
       "       [0.],\n",
       "       [0.],\n",
       "       [0.],\n",
       "       [0.],\n",
       "       [0.],\n",
       "       [0.],\n",
       "       [0.],\n",
       "       [0.],\n",
       "       [0.],\n",
       "       [0.],\n",
       "       [0.],\n",
       "       [0.],\n",
       "       [0.],\n",
       "       [0.],\n",
       "       [0.],\n",
       "       [0.],\n",
       "       [0.],\n",
       "       [0.],\n",
       "       [0.],\n",
       "       [0.],\n",
       "       [0.],\n",
       "       [0.],\n",
       "       [0.],\n",
       "       [0.],\n",
       "       [0.],\n",
       "       [0.],\n",
       "       [0.],\n",
       "       [0.],\n",
       "       [0.],\n",
       "       [0.],\n",
       "       [0.],\n",
       "       [0.],\n",
       "       [0.],\n",
       "       [0.],\n",
       "       [0.],\n",
       "       [0.],\n",
       "       [0.],\n",
       "       [0.],\n",
       "       [0.],\n",
       "       [0.],\n",
       "       [0.],\n",
       "       [0.],\n",
       "       [0.],\n",
       "       [0.],\n",
       "       [0.],\n",
       "       [0.],\n",
       "       [0.],\n",
       "       [0.],\n",
       "       [0.],\n",
       "       [0.],\n",
       "       [0.],\n",
       "       [0.],\n",
       "       [0.],\n",
       "       [0.],\n",
       "       [0.],\n",
       "       [0.],\n",
       "       [0.],\n",
       "       [0.],\n",
       "       [0.],\n",
       "       [0.],\n",
       "       [0.],\n",
       "       [0.],\n",
       "       [0.],\n",
       "       [0.],\n",
       "       [0.],\n",
       "       [0.],\n",
       "       [0.],\n",
       "       [0.],\n",
       "       [0.],\n",
       "       [0.],\n",
       "       [0.],\n",
       "       [0.],\n",
       "       [0.],\n",
       "       [0.],\n",
       "       [0.],\n",
       "       [0.],\n",
       "       [0.],\n",
       "       [0.],\n",
       "       [0.],\n",
       "       [0.],\n",
       "       [0.],\n",
       "       [0.],\n",
       "       [0.],\n",
       "       [0.],\n",
       "       [0.],\n",
       "       [0.],\n",
       "       [0.],\n",
       "       [0.],\n",
       "       [0.],\n",
       "       [0.],\n",
       "       [0.],\n",
       "       [0.],\n",
       "       [0.],\n",
       "       [0.],\n",
       "       [0.],\n",
       "       [0.],\n",
       "       [0.],\n",
       "       [0.],\n",
       "       [0.],\n",
       "       [0.],\n",
       "       [0.],\n",
       "       [0.],\n",
       "       [0.],\n",
       "       [0.],\n",
       "       [0.],\n",
       "       [0.],\n",
       "       [0.],\n",
       "       [0.],\n",
       "       [0.],\n",
       "       [0.],\n",
       "       [0.],\n",
       "       [0.],\n",
       "       [0.],\n",
       "       [0.],\n",
       "       [0.],\n",
       "       [0.],\n",
       "       [0.],\n",
       "       [0.],\n",
       "       [0.],\n",
       "       [0.],\n",
       "       [0.],\n",
       "       [0.],\n",
       "       [0.],\n",
       "       [0.],\n",
       "       [0.],\n",
       "       [0.],\n",
       "       [0.],\n",
       "       [0.],\n",
       "       [0.],\n",
       "       [0.],\n",
       "       [0.],\n",
       "       [0.],\n",
       "       [0.],\n",
       "       [0.],\n",
       "       [0.],\n",
       "       [0.],\n",
       "       [0.],\n",
       "       [0.],\n",
       "       [0.],\n",
       "       [0.],\n",
       "       [0.],\n",
       "       [0.],\n",
       "       [0.],\n",
       "       [0.],\n",
       "       [0.],\n",
       "       [0.],\n",
       "       [0.],\n",
       "       [0.],\n",
       "       [0.],\n",
       "       [0.],\n",
       "       [0.],\n",
       "       [0.],\n",
       "       [0.],\n",
       "       [0.],\n",
       "       [0.],\n",
       "       [0.],\n",
       "       [0.],\n",
       "       [0.],\n",
       "       [0.],\n",
       "       [0.],\n",
       "       [0.],\n",
       "       [0.],\n",
       "       [0.],\n",
       "       [0.],\n",
       "       [0.],\n",
       "       [0.],\n",
       "       [0.],\n",
       "       [0.],\n",
       "       [0.],\n",
       "       [0.],\n",
       "       [0.],\n",
       "       [0.],\n",
       "       [0.],\n",
       "       [0.],\n",
       "       [0.],\n",
       "       [0.],\n",
       "       [0.],\n",
       "       [0.],\n",
       "       [0.],\n",
       "       [0.],\n",
       "       [0.],\n",
       "       [0.],\n",
       "       [0.],\n",
       "       [0.],\n",
       "       [0.],\n",
       "       [0.],\n",
       "       [0.],\n",
       "       [0.],\n",
       "       [0.],\n",
       "       [0.],\n",
       "       [0.],\n",
       "       [0.],\n",
       "       [0.],\n",
       "       [0.],\n",
       "       [0.],\n",
       "       [0.],\n",
       "       [0.],\n",
       "       [0.],\n",
       "       [0.],\n",
       "       [0.],\n",
       "       [0.],\n",
       "       [0.],\n",
       "       [0.],\n",
       "       [0.],\n",
       "       [0.]])"
      ]
     },
     "execution_count": 95,
     "metadata": {},
     "output_type": "execute_result"
    }
   ],
   "source": [
    "H"
   ]
  },
  {
   "cell_type": "markdown",
   "id": "295f663a",
   "metadata": {},
   "source": [
    "### counting pixels"
   ]
  },
  {
   "cell_type": "markdown",
   "id": "7d23fbc0",
   "metadata": {},
   "source": [
    "#### Histogram function"
   ]
  },
  {
   "cell_type": "code",
   "execution_count": 96,
   "id": "0d1393c3",
   "metadata": {},
   "outputs": [],
   "source": [
    "def Hist(image):\n",
    "    H = numpy.zeros(shape=(256,1))\n",
    "    s = image.shape\n",
    "    for i in range(s[0]):\n",
    "        for j in range(s[1]):\n",
    "            k = image[i,j]\n",
    "            H[k,0] = H[k,0] + 1\n",
    "    return H"
   ]
  },
  {
   "cell_type": "markdown",
   "id": "cb4f623d",
   "metadata": {},
   "source": [
    "#### constract image"
   ]
  },
  {
   "cell_type": "code",
   "execution_count": 97,
   "id": "18a71889",
   "metadata": {},
   "outputs": [],
   "source": [
    "scaledFlowerHist = Hist(scaledGrayFlower)"
   ]
  },
  {
   "cell_type": "code",
   "execution_count": 98,
   "id": "ff7269c5",
   "metadata": {},
   "outputs": [],
   "source": [
    "#H"
   ]
  },
  {
   "cell_type": "code",
   "execution_count": 99,
   "id": "e4a5637b",
   "metadata": {},
   "outputs": [
    {
     "data": {
      "image/png": "[encoded data removed]",
      "text/plain": [
       "<Figure size 432x288 with 1 Axes>"
      ]
     },
     "metadata": {
      "needs_background": "light"
     },
     "output_type": "display_data"
    }
   ],
   "source": [
    "plt.plot(scaledFlowerHist)\n",
    "plt.show()"
   ]
  },
  {
   "cell_type": "markdown",
   "id": "d61e3486",
   "metadata": {},
   "source": [
    "#### gray image"
   ]
  },
  {
   "cell_type": "code",
   "execution_count": 100,
   "id": "0a421e96",
   "metadata": {},
   "outputs": [],
   "source": [
    "grayFlowerHist = Hist(grayFlower)"
   ]
  },
  {
   "cell_type": "code",
   "execution_count": 101,
   "id": "f96fb224",
   "metadata": {},
   "outputs": [
    {
     "data": {
      "image/png": "[encoded data removed]",
      "text/plain": [
       "<Figure size 432x288 with 1 Axes>"
      ]
     },
     "metadata": {
      "needs_background": "light"
     },
     "output_type": "display_data"
    }
   ],
   "source": [
    "plt.plot(grayFlowerHist)\n",
    "plt.show()"
   ]
  },
  {
   "cell_type": "markdown",
   "id": "31b2befa",
   "metadata": {},
   "source": [
    "# 2nd"
   ]
  },
  {
   "cell_type": "code",
   "execution_count": 102,
   "id": "73093977",
   "metadata": {},
   "outputs": [],
   "source": [
    "x = scaledFlowerHist.reshape(1,256)"
   ]
  },
  {
   "cell_type": "code",
   "execution_count": 103,
   "id": "4c33b480",
   "metadata": {},
   "outputs": [],
   "source": [
    "y = numpy.array([])"
   ]
  },
  {
   "cell_type": "code",
   "execution_count": 104,
   "id": "bea9fdef",
   "metadata": {},
   "outputs": [],
   "source": [
    "y = numpy.append(y,x[0,0])"
   ]
  },
  {
   "cell_type": "code",
   "execution_count": 105,
   "id": "0c7b50ac",
   "metadata": {},
   "outputs": [],
   "source": [
    "for i in range(255):\n",
    "    k = x[0,i+1] + y[i]\n",
    "    y = numpy.append(y,k)\n",
    "y = numpy.round((y/(s[0]*s[1]))*(256-1))"
   ]
  },
  {
   "cell_type": "code",
   "execution_count": 106,
   "id": "f3b296d6",
   "metadata": {},
   "outputs": [],
   "source": [
    "for i in range(s[0]):\n",
    "    for j in range(s[1]):\n",
    "        k = scaledGrayFlower[i,j]\n",
    "        scaledGrayFlower[i,j] = y[k]"
   ]
  },
  {
   "cell_type": "code",
   "execution_count": 107,
   "id": "91b1bb47",
   "metadata": {},
   "outputs": [],
   "source": [
    "cv2.imshow('scaledGrayFlower',scaledGrayFlower)\n",
    "cv2.waitKey()==13\n",
    "cv2.destroyAllWindows()"
   ]
  },
  {
   "cell_type": "code",
   "execution_count": 108,
   "id": "7d8114dc",
   "metadata": {},
   "outputs": [],
   "source": [
    "equalizeHist = Hist(scaledGrayFlower)"
   ]
  },
  {
   "cell_type": "code",
   "execution_count": 109,
   "id": "82c40b69",
   "metadata": {},
   "outputs": [
    {
     "data": {
      "image/png": "[encoded data removed]",
      "text/plain": [
       "<Figure size 432x288 with 1 Axes>"
      ]
     },
     "metadata": {
      "needs_background": "light"
     },
     "output_type": "display_data"
    }
   ],
   "source": [
    "plt.plot(equalizeHist)\n",
    "plt.show()"
   ]
  },
  {
   "cell_type": "code",
   "execution_count": null,
   "id": "e50d8e5f",
   "metadata": {},
   "outputs": [],
   "source": []
  },
  {
   "cell_type": "code",
   "execution_count": null,
   "id": "22710b43",
   "metadata": {},
   "outputs": [],
   "source": []
  }
 ],
 "metadata": {
  "kernelspec": {
   "display_name": "Python 3 (ipykernel)",
   "language": "python",
   "name": "python3"
  },
  "language_info": {
   "codemirror_mode": {
    "name": "ipython",
    "version": 3
   },
   "file_extension": ".py",
   "mimetype": "text/x-python",
   "name": "python",
   "nbconvert_exporter": "python",
   "pygments_lexer": "ipython3",
   "version": "3.8.12"
  }
 },
 "nbformat": 4,
 "nbformat_minor": 5
}
